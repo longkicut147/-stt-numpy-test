{
 "cells": [
  {
   "cell_type": "code",
   "execution_count": 1,
   "metadata": {},
   "outputs": [],
   "source": [
    "import numpy as np"
   ]
  },
  {
   "cell_type": "code",
   "execution_count": 2,
   "metadata": {},
   "outputs": [],
   "source": [
    "# 1. tạo 2 ma trận ngẫu nhiên 3x3\n",
    "A = np.array([[2, 7, 5],\n",
    "              [1, 2, 4],\n",
    "              [4, 8, 9]])\n",
    "B = np.array([[2, 2, 4],\n",
    "              [3, 5, 8],\n",
    "              [1, 3, 3]])"
   ]
  },
  {
   "cell_type": "code",
   "execution_count": 3,
   "metadata": {},
   "outputs": [
    {
     "name": "stdout",
     "output_type": "stream",
     "text": [
      "[[ 4  9  9]\n",
      " [ 4  7 12]\n",
      " [ 5 11 12]]\n"
     ]
    }
   ],
   "source": [
    "# 2. tổng 2 ma trận\n",
    "print(A+B)"
   ]
  },
  {
   "cell_type": "code",
   "execution_count": 4,
   "metadata": {},
   "outputs": [
    {
     "name": "stdout",
     "output_type": "stream",
     "text": [
      "[[ 0  5  1]\n",
      " [-2 -3 -4]\n",
      " [ 3  5  6]]\n"
     ]
    }
   ],
   "source": [
    "# 3. hiệu ma trận A-B\n",
    "print(A-B)"
   ]
  },
  {
   "cell_type": "code",
   "execution_count": 5,
   "metadata": {},
   "outputs": [
    {
     "name": "stdout",
     "output_type": "stream",
     "text": [
      "[[ 30  54  79]\n",
      " [ 12  24  32]\n",
      " [ 41  75 107]]\n"
     ]
    }
   ],
   "source": [
    "# 4. tích thông thường\n",
    "print(A.dot(B))"
   ]
  },
  {
   "cell_type": "code",
   "execution_count": 6,
   "metadata": {},
   "outputs": [
    {
     "name": "stdout",
     "output_type": "stream",
     "text": [
      "[[ 4 14 20]\n",
      " [ 3 10 32]\n",
      " [ 4 24 27]]\n"
     ]
    }
   ],
   "source": [
    "# 5. tích Hadamard\n",
    "print(A*B)"
   ]
  },
  {
   "cell_type": "code",
   "execution_count": 7,
   "metadata": {},
   "outputs": [
    {
     "name": "stdout",
     "output_type": "stream",
     "text": [
      "21.0\n"
     ]
    }
   ],
   "source": [
    "# 6. định thức ma trận A\n",
    "print(np.linalg.det(A))"
   ]
  },
  {
   "cell_type": "code",
   "execution_count": 48,
   "metadata": {},
   "outputs": [
    {
     "name": "stdout",
     "output_type": "stream",
     "text": [
      "[[-0.66666667 -1.0952381   0.85714286]\n",
      " [ 0.33333333 -0.0952381  -0.14285714]\n",
      " [ 0.          0.57142857 -0.14285714]]\n"
     ]
    }
   ],
   "source": [
    "# 7. tính nghịch đảo của A\n",
    "A_inv = np.linalg.inv(A)\n",
    "print(A_inv)"
   ]
  },
  {
   "cell_type": "code",
   "execution_count": 9,
   "metadata": {},
   "outputs": [
    {
     "name": "stdout",
     "output_type": "stream",
     "text": [
      "[[2 1 4]\n",
      " [7 2 8]\n",
      " [5 4 9]]\n"
     ]
    }
   ],
   "source": [
    "# 8. tính chuyển vị của A\n",
    "print(A.T)"
   ]
  },
  {
   "cell_type": "code",
   "execution_count": 10,
   "metadata": {},
   "outputs": [
    {
     "name": "stdout",
     "output_type": "stream",
     "text": [
      "[[-6.66666667e-01 -1.09523810e+00  8.57142857e-01]\n",
      " [ 3.33333333e-01 -9.52380952e-02 -1.42857143e-01]\n",
      " [ 3.56540718e-17  5.71428571e-01 -1.42857143e-01]]\n"
     ]
    }
   ],
   "source": [
    "# 9. tính ma trận giả nghịch đảo của A\n",
    "print(np.linalg.pinv(A))"
   ]
  },
  {
   "cell_type": "code",
   "execution_count": 11,
   "metadata": {},
   "outputs": [
    {
     "name": "stdout",
     "output_type": "stream",
     "text": [
      "16.1245154965971\n"
     ]
    }
   ],
   "source": [
    "# 10. tính Frobenius norm của A\n",
    "print(np.linalg.norm(A))"
   ]
  },
  {
   "cell_type": "code",
   "execution_count": 22,
   "metadata": {},
   "outputs": [
    {
     "name": "stdout",
     "output_type": "stream",
     "text": [
      "14.0\n",
      "7.0\n",
      "21.0\n",
      "8.831760866327848\n",
      "4.58257569495584\n",
      "12.68857754044952\n"
     ]
    }
   ],
   "source": [
    "# 11. \n",
    "# Norm L1 mỗi hàng trong A\n",
    "row1_norm1 = np.linalg.norm(A[0,:], 1)\n",
    "row2_norm1 = np.linalg.norm(A[1,:], 1)\n",
    "row3_norm1 = np.linalg.norm(A[2,:], 1)\n",
    "print(row1_norm1)\n",
    "print(row2_norm1)\n",
    "print(row3_norm1)\n",
    "\n",
    "# Norm L2 mỗi hàng trong A\n",
    "row1_norm2 = np.linalg.norm(A[0,:], 2)\n",
    "row2_norm2 = np.linalg.norm(A[1,:], 2)\n",
    "row3_norm2 = np.linalg.norm(A[2,:], 2)\n",
    "print(row1_norm2)\n",
    "print(row2_norm2)\n",
    "print(row3_norm2)"
   ]
  },
  {
   "cell_type": "code",
   "execution_count": 38,
   "metadata": {},
   "outputs": [
    {
     "name": "stdout",
     "output_type": "stream",
     "text": [
      "[[2 7]\n",
      " [1 2]]\n"
     ]
    }
   ],
   "source": [
    "# 12. ma trận con 2x2 góc trên trái A\n",
    "A_2x2_left = A[0:2, 0:2]\n",
    "print(A_2x2_left)"
   ]
  },
  {
   "cell_type": "code",
   "execution_count": 39,
   "metadata": {},
   "outputs": [
    {
     "name": "stdout",
     "output_type": "stream",
     "text": [
      "[[ 4 14 10]\n",
      " [ 2  4  8]\n",
      " [ 8 16 18]]\n"
     ]
    }
   ],
   "source": [
    "# 13. nhân vô hướng A với a=2\n",
    "print(A*2)"
   ]
  },
  {
   "cell_type": "code",
   "execution_count": 47,
   "metadata": {},
   "outputs": [
    {
     "name": "stdout",
     "output_type": "stream",
     "text": [
      "[[ 21  48  50]\n",
      " [ 48 117 115]\n",
      " [ 50 115 122]]\n"
     ]
    }
   ],
   "source": [
    "# 14. Tính ma trận đối xứng ATA\n",
    "print(A.T.dot(A))"
   ]
  },
  {
   "cell_type": "code",
   "execution_count": 42,
   "metadata": {},
   "outputs": [
    {
     "name": "stdout",
     "output_type": "stream",
     "text": [
      "13\n"
     ]
    }
   ],
   "source": [
    "# 15. Tính trace A\n",
    "print(np.linalg.trace(A))"
   ]
  },
  {
   "cell_type": "code",
   "execution_count": 52,
   "metadata": {},
   "outputs": [
    {
     "name": "stdout",
     "output_type": "stream",
     "text": [
      "(14.41873967083326+0j)\n",
      "(-0.7093698354166313+0.9763362182309253j)\n",
      "(-0.7093698354166313-0.9763362182309253j)\n",
      "[ 0.49759993+0.j -0.86586104+0.j -0.86586104-0.j]\n",
      "[0.30197734+0.j         0.24297125-0.31602757j 0.24297125+0.31602757j]\n",
      "[0.81314451+0.j        0.12902781+0.2733643j 0.12902781-0.2733643j]\n"
     ]
    }
   ],
   "source": [
    "# 16.\n",
    "eigen_values, eigen_vectors = np.linalg.eig(A)\n",
    "\n",
    "# tìm các giá trị riêng\n",
    "eigen_value_1 = eigen_values[0]\n",
    "eigen_value_2 = eigen_values[1]\n",
    "eigen_value_3 = eigen_values[2]\n",
    "print(eigen_value_1)\n",
    "print(eigen_value_2)\n",
    "print(eigen_value_3)\n",
    "\n",
    "# tìm các vector riêng\n",
    "eigen_vector_1 = eigen_vectors[0]\n",
    "eigen_vector_2 = eigen_vectors[1]\n",
    "eigen_vector_3 = eigen_vectors[2]\n",
    "print(eigen_vector_1)\n",
    "print(eigen_vector_2)\n",
    "print(eigen_vector_3)\n"
   ]
  },
  {
   "cell_type": "code",
   "execution_count": 80,
   "metadata": {},
   "outputs": [
    {
     "name": "stdout",
     "output_type": "stream",
     "text": [
      "A có thể chéo hóa\n",
      "[[ 1.44187397e+01+5.14778475e-17j -1.16191760e-15-1.84563208e-15j\n",
      "  -1.19573536e-15+1.82410027e-15j]\n",
      " [ 1.22933117e-15-5.03798827e-15j -7.09369835e-01+9.76336218e-01j\n",
      "   2.22044605e-16+1.66533454e-16j]\n",
      " [ 9.93265663e-16+3.72589332e-15j  3.33066907e-16-1.11022302e-16j\n",
      "  -7.09369835e-01-9.76336218e-01j]]\n"
     ]
    }
   ],
   "source": [
    "# 17. \n",
    "# Kiểm tra A có khả năng chéo hóa hay không\n",
    "if np.linalg.matrix_rank(eigen_vectors) == A.shape[0]:\n",
    "    print(\"A có thể chéo hóa\")\n",
    "else:\n",
    "    print(\"A không thể chéo hóa được\")\n",
    "\n",
    "# tính ma trận chéo hóa A\n",
    "A_diagonalize = np.linalg.inv(eigen_vectors).dot(A).dot(eigen_vectors)\n",
    "print(A_diagonalize)"
   ]
  },
  {
   "cell_type": "code",
   "execution_count": 71,
   "metadata": {},
   "outputs": [
    {
     "name": "stdout",
     "output_type": "stream",
     "text": [
      "[[1 1 1]\n",
      " [1 1 1]\n",
      " [1 1 1]]\n",
      "[[ 3  8  6]\n",
      " [ 2  3  5]\n",
      " [ 5  9 10]]\n"
     ]
    }
   ],
   "source": [
    "# 18. tạo ma trận C 3x3 toàn 1 và cộng với A\n",
    "C = np.full((3,3), 1)\n",
    "print(C)\n",
    "print(A+C)"
   ]
  },
  {
   "cell_type": "code",
   "execution_count": 59,
   "metadata": {},
   "outputs": [
    {
     "name": "stdout",
     "output_type": "stream",
     "text": [
      "[[1 0 0]\n",
      " [0 2 0]\n",
      " [0 0 3]]\n"
     ]
    }
   ],
   "source": [
    "# 19. tạo ma trận chéo từ 1 vector kích thước 3 ngẫu nhiên\n",
    "z = np.array([1, 2, 3])\n",
    "Z = np.diag(z)\n",
    "print(Z)"
   ]
  },
  {
   "cell_type": "code",
   "execution_count": 65,
   "metadata": {},
   "outputs": [
    {
     "name": "stdout",
     "output_type": "stream",
     "text": [
      "A không phải ma trận trực giao\n"
     ]
    }
   ],
   "source": [
    "# 20. kiểm tra ma trận A có phải ma trận trực giao không\n",
    "if np.linalg.det(A.dot(A.T)) == 0:\n",
    "    print(\"A là ma trận trực giao\")\n",
    "else:\n",
    "    print(\"A không phải ma trận trực giao\")"
   ]
  },
  {
   "cell_type": "code",
   "execution_count": 66,
   "metadata": {},
   "outputs": [],
   "source": [
    "# 21. tạo ma trận 4x4 ngẫu nhiên\n",
    "D = np.array([[1, 4, 2, 5],\n",
    "             [2, 7, 2, 1],\n",
    "             [3, 5, 2, 1],\n",
    "             [1, 2, 3, 6]])"
   ]
  },
  {
   "cell_type": "code",
   "execution_count": 68,
   "metadata": {},
   "outputs": [
    {
     "name": "stdout",
     "output_type": "stream",
     "text": [
      "[[ 0.32727273 -0.63636364  0.74545455 -0.29090909]\n",
      " [ 0.16363636  0.18181818 -0.12727273 -0.14545455]\n",
      " [-1.12727273  0.63636364 -0.34545455  0.89090909]\n",
      " [ 0.45454545 -0.27272727  0.09090909 -0.18181818]]\n"
     ]
    }
   ],
   "source": [
    "# 22. tính ma trận nghịch đảo của D\n",
    "D_inv = np.linalg.inv(D)\n",
    "print(D_inv)"
   ]
  },
  {
   "cell_type": "code",
   "execution_count": 75,
   "metadata": {},
   "outputs": [
    {
     "name": "stdout",
     "output_type": "stream",
     "text": [
      "[[20 52 29 41]\n",
      " [23 69 25 25]\n",
      " [20 59 23 28]\n",
      " [20 45 30 46]]\n",
      "2 ma trận khác nhau\n"
     ]
    }
   ],
   "source": [
    "# 23. \n",
    "# tính ma trận D nhân chính nó\n",
    "DxD = D.dot(D)\n",
    "print(DxD)\n",
    "\n",
    "# so sánh DxD và DxD^-1\n",
    "DxD_inv = D.dot(D_inv)\n",
    "if np.allclose(DxD, DxD_inv):\n",
    "    print(\"2 ma trận bằng nhau\")\n",
    "else:\n",
    "    print(\"2 ma trận khác nhau\")"
   ]
  },
  {
   "cell_type": "code",
   "execution_count": 76,
   "metadata": {},
   "outputs": [
    {
     "name": "stdout",
     "output_type": "stream",
     "text": [
      "[[ 155  343  391]\n",
      " [ 376  836  944]\n",
      " [ 435  963 1094]]\n",
      "-1763.9999999999095\n"
     ]
    }
   ],
   "source": [
    "# 24. \n",
    "# tính ma trận d = ATxBxA\n",
    "d = A.T.dot(B).dot(A)\n",
    "print(d)\n",
    "\n",
    "# tìm định thức của d\n",
    "print(np.linalg.det(d))"
   ]
  },
  {
   "cell_type": "code",
   "execution_count": 77,
   "metadata": {},
   "outputs": [
    {
     "name": "stdout",
     "output_type": "stream",
     "text": [
      "[[2. 4. 2. 5.]\n",
      " [2. 8. 2. 1.]\n",
      " [3. 5. 3. 1.]\n",
      " [1. 2. 3. 7.]]\n"
     ]
    }
   ],
   "source": [
    "# 26. tính tổng ma trận D với ma trận đơn vị I4 kích thước 4\n",
    "I4 = np.eye(4)\n",
    "print(D+I4)"
   ]
  },
  {
   "cell_type": "code",
   "execution_count": 79,
   "metadata": {},
   "outputs": [
    {
     "name": "stdout",
     "output_type": "stream",
     "text": [
      "[[9 2 5]\n",
      " [2 9 2]\n",
      " [1 5 9]]\n"
     ]
    }
   ],
   "source": [
    "# 27. tạo ma trận F ngẫu nhiên và có đường chéo là các phần tử của 1 vector ngẫu nhiên\n",
    "F = np.array([[1, 2, 5],\n",
    "              [2, 4, 2],\n",
    "              [1, 5, 3]])\n",
    "f = np.array([9, 9, 9])\n",
    "np.fill_diagonal(F, f)\n",
    "print(F)"
   ]
  },
  {
   "cell_type": "code",
   "execution_count": 83,
   "metadata": {},
   "outputs": [
    {
     "name": "stdout",
     "output_type": "stream",
     "text": [
      "A có thể chéo hóa\n"
     ]
    }
   ],
   "source": [
    "# 28. Kiểm tra ma trận F có chéo hóa được không\n",
    "eigen_values, eigen_vectors = np.linalg.eig(F)\n",
    "\n",
    "if np.linalg.matrix_rank(eigen_vectors) == F.shape[0]:\n",
    "    print(\"A có thể chéo hóa\")\n",
    "else:\n",
    "    print(\"A không thể chéo hóa được\")"
   ]
  },
  {
   "cell_type": "code",
   "execution_count": 81,
   "metadata": {},
   "outputs": [
    {
     "name": "stdout",
     "output_type": "stream",
     "text": [
      "F không phải ma trận chéo hóa.\n"
     ]
    }
   ],
   "source": [
    "# 29. Kiểm tra ma trận F có phải ma trận chéo không\n",
    "if np.all(F == np.diag(np.diag(F))):\n",
    "    print(\"F là ma trận chéo\")\n",
    "else:\n",
    "    print(\"F không phải ma trận chéo\")"
   ]
  },
  {
   "cell_type": "code",
   "execution_count": 82,
   "metadata": {},
   "outputs": [
    {
     "name": "stdout",
     "output_type": "stream",
     "text": [
      "27\n"
     ]
    }
   ],
   "source": [
    "# 30. tính trace F\n",
    "print(np.trace(F))"
   ]
  }
 ],
 "metadata": {
  "kernelspec": {
   "display_name": "Python 3",
   "language": "python",
   "name": "python3"
  },
  "language_info": {
   "codemirror_mode": {
    "name": "ipython",
    "version": 3
   },
   "file_extension": ".py",
   "mimetype": "text/x-python",
   "name": "python",
   "nbconvert_exporter": "python",
   "pygments_lexer": "ipython3",
   "version": "3.12.4"
  }
 },
 "nbformat": 4,
 "nbformat_minor": 2
}
